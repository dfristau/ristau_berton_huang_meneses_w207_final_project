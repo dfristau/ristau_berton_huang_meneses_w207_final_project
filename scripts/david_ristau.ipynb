{
 "cells": [
  {
   "cell_type": "code",
   "execution_count": 1,
   "metadata": {},
   "outputs": [],
   "source": [
    "import os\n",
    "import numpy as np\n",
    "import pandas as pd\n",
    "import matplotlib.pyplot as plt\n",
    "\n",
    "import librosa\n",
    "import librosa.display\n",
    "from scipy import fft\n",
    "from intervaltree import Interval,IntervalTree\n",
    "\n",
    "from sklearn.linear_model import LogisticRegression\n",
    "from sklearn.naive_bayes import MultinomialNB, CategoricalNB, GaussianNB\n",
    "from sklearn.tree import DecisionTreeClassifier\n",
    "from sklearn.svm import SVC\n",
    "from sklearn.model_selection import cross_val_score\n",
    "from sklearn.metrics import accuracy_score, f1_score, confusion_matrix, classification_report\n"
   ]
  },
  {
   "cell_type": "code",
   "execution_count": 2,
   "metadata": {},
   "outputs": [],
   "source": [
    "#test_file = '..musicnet/train_data/1727.wav'\n",
    "#y, sr = librosa.load(test_file, sr=None)\n",
    "#y_harmonic, y_percussive = librosa.effects.hpss(y)\n",
    "#_harmonic.shape\n",
    "#_harmonic = np.array(y_harmonic)\n",
    "#_percussive = np.array(y_percussive)"
   ]
  },
  {
   "cell_type": "code",
   "execution_count": 3,
   "metadata": {},
   "outputs": [
    {
     "ename": "NameError",
     "evalue": "name 'y_harmonic' is not defined",
     "output_type": "error",
     "traceback": [
      "\u001b[1;31m---------------------------------------------------------------------------\u001b[0m",
      "\u001b[1;31mNameError\u001b[0m                                 Traceback (most recent call last)",
      "\u001b[1;32m<ipython-input-3-10928565875d>\u001b[0m in \u001b[0;36m<module>\u001b[1;34m\u001b[0m\n\u001b[0;32m      1\u001b[0m \u001b[0mplt\u001b[0m\u001b[1;33m.\u001b[0m\u001b[0mfigure\u001b[0m\u001b[1;33m(\u001b[0m\u001b[0mfigsize\u001b[0m\u001b[1;33m=\u001b[0m\u001b[1;33m(\u001b[0m\u001b[1;36m10\u001b[0m\u001b[1;33m,\u001b[0m\u001b[1;36m4\u001b[0m\u001b[1;33m)\u001b[0m\u001b[1;33m)\u001b[0m\u001b[1;33m\u001b[0m\u001b[1;33m\u001b[0m\u001b[0m\n\u001b[1;32m----> 2\u001b[1;33m \u001b[0mlibrosa\u001b[0m\u001b[1;33m.\u001b[0m\u001b[0mdisplay\u001b[0m\u001b[1;33m.\u001b[0m\u001b[0mwaveplot\u001b[0m\u001b[1;33m(\u001b[0m\u001b[0my_harmonic\u001b[0m\u001b[1;33m,\u001b[0m \u001b[0msr\u001b[0m\u001b[1;33m=\u001b[0m\u001b[0msr\u001b[0m\u001b[1;33m,\u001b[0m \u001b[0malpha\u001b[0m\u001b[1;33m=\u001b[0m\u001b[1;36m0.25\u001b[0m\u001b[1;33m)\u001b[0m\u001b[1;33m\u001b[0m\u001b[1;33m\u001b[0m\u001b[0m\n\u001b[0m\u001b[0;32m      3\u001b[0m \u001b[0mlibrosa\u001b[0m\u001b[1;33m.\u001b[0m\u001b[0mdisplay\u001b[0m\u001b[1;33m.\u001b[0m\u001b[0mwaveplot\u001b[0m\u001b[1;33m(\u001b[0m\u001b[0my_percussive\u001b[0m\u001b[1;33m,\u001b[0m \u001b[0msr\u001b[0m\u001b[1;33m=\u001b[0m\u001b[0msr\u001b[0m\u001b[1;33m,\u001b[0m \u001b[0mcolor\u001b[0m\u001b[1;33m=\u001b[0m\u001b[1;34m'r'\u001b[0m\u001b[1;33m,\u001b[0m \u001b[0malpha\u001b[0m\u001b[1;33m=\u001b[0m\u001b[1;36m0.5\u001b[0m\u001b[1;33m)\u001b[0m\u001b[1;33m\u001b[0m\u001b[1;33m\u001b[0m\u001b[0m\n\u001b[0;32m      4\u001b[0m \u001b[0mplt\u001b[0m\u001b[1;33m.\u001b[0m\u001b[0mlegend\u001b[0m\u001b[1;33m(\u001b[0m\u001b[1;33m[\u001b[0m\u001b[1;34m'Harmonic'\u001b[0m\u001b[1;33m,\u001b[0m \u001b[1;34m'Percussive'\u001b[0m\u001b[1;33m]\u001b[0m\u001b[1;33m)\u001b[0m\u001b[1;33m\u001b[0m\u001b[1;33m\u001b[0m\u001b[0m\n\u001b[0;32m      5\u001b[0m \u001b[0mplt\u001b[0m\u001b[1;33m.\u001b[0m\u001b[0mtitle\u001b[0m\u001b[1;33m(\u001b[0m\u001b[1;34m\"Amplitude Envelope of Harmonic and Percussive Components for \"\u001b[0m\u001b[1;33m)\u001b[0m\u001b[1;33m\u001b[0m\u001b[1;33m\u001b[0m\u001b[0m\n",
      "\u001b[1;31mNameError\u001b[0m: name 'y_harmonic' is not defined"
     ]
    },
    {
     "data": {
      "text/plain": [
       "<Figure size 720x288 with 0 Axes>"
      ]
     },
     "metadata": {},
     "output_type": "display_data"
    }
   ],
   "source": [
    "plt.figure(figsize=(10,4))\n",
    "librosa.display.waveplot(y_harmonic, sr=sr, alpha=0.25)\n",
    "librosa.display.waveplot(y_percussive, sr=sr, color='r', alpha=0.5)\n",
    "plt.legend(['Harmonic', 'Percussive'])\n",
    "plt.title(\"Amplitude Envelope of Harmonic and Percussive Components for \")\n",
    "#plt.savefig('plots/soundsAsArrays_'+str(class_names[i])+'.png')\n",
    "plt.show()"
   ]
  },
  {
   "cell_type": "code",
   "execution_count": null,
   "metadata": {},
   "outputs": [],
   "source": [
    "#pd.set_option(\"display.max_rows\", None, \"display.max_columns\", None)"
   ]
  },
  {
   "cell_type": "markdown",
   "metadata": {},
   "source": [
    "Run the cell below to run standard training and testing models with 320 training examples and 10 test examples"
   ]
  },
  {
   "cell_type": "code",
   "execution_count": null,
   "metadata": {},
   "outputs": [],
   "source": [
    "# wav file data, metadata labels\n",
    "train_data = pd.read_csv('../data/df_train_wav_consolidated.csv')\n",
    "labels = pd.read_csv('../data/musicnet_metadata.csv')\n",
    "labels.rename({'id': 'filename'}, axis=1, inplace=True)\n",
    "train = pd.merge(train_data, labels, on =['filename'])\n",
    "train.drop(['Unnamed: 0', 'filename', 'composer', 'composition', 'movement', 'source', 'transcriber', 'transcriber', 'catalog_name', 'seconds'], axis=1, inplace=True)  # todo: try to include some of these featues\n",
    "X_train = train.drop('ensemble', axis=1)\n",
    "y_train = train['ensemble']\n",
    "code = {}\n",
    "j = 0\n",
    "for i in y_train.value_counts().index:\n",
    "    code[i] = j\n",
    "    j+=1\n",
    "y_train.replace(code, inplace=True)\n",
    "\n",
    "test_data = pd.read_csv('../data/df_test_wav_finc.csv')\n",
    "test = pd.merge(test_data, labels, on=['filename'])\n",
    "test.drop(['Unnamed: 0', 'filename', 'composer', 'composition', 'movement', 'source', 'transcriber', 'transcriber', 'catalog_name', 'seconds'], axis=1, inplace=True)\n",
    "X_test = test.drop('ensemble', axis=1)\n",
    "y_test = test['ensemble']\n",
    "y_test.replace(code, inplace=True)"
   ]
  },
  {
   "cell_type": "code",
   "execution_count": null,
   "metadata": {},
   "outputs": [],
   "source": [
    "X_train.shape"
   ]
  },
  {
   "cell_type": "markdown",
   "metadata": {},
   "source": [
    "Logistic regression:"
   ]
  },
  {
   "cell_type": "code",
   "execution_count": null,
   "metadata": {},
   "outputs": [],
   "source": [
    "lr = LogisticRegression(C = 0.5, solver='liblinear', multi_class='auto')\n",
    "lr.fit(np.array(X_train), np.array(y_train))\n",
    "predictions = lr.predict(np.array(X_test))\n",
    "print('Accuracy score: ', accuracy_score(predictions, np.array(y_test)))\n",
    "print('F1 Score: ', f1_score(predictions, np.array(y_test), average='weighted'))\n",
    "print('Classification report: \\n', classification_report(y_test, predictions))\n",
    "print('Confusion Matrix: \\n', confusion_matrix(y_test, predictions))"
   ]
  },
  {
   "cell_type": "markdown",
   "metadata": {},
   "source": [
    "Naive bayes"
   ]
  },
  {
   "cell_type": "code",
   "execution_count": null,
   "metadata": {},
   "outputs": [],
   "source": [
    "gnb = GaussianNB()\n",
    "gnb.fit(X_train, np.array(y_train))\n",
    "predictions = gnb.predict(X_test)\n",
    "print('Accuracy score: ', accuracy_score(predictions, np.array(y_test)))\n",
    "print('F1 Score: ', f1_score(predictions, np.array(y_test), average='weighted'))\n",
    "print('Classification report: \\n', classification_report(y_test, predictions))\n",
    "print('Confusion Matrix: \\n', confusion_matrix(y_test, predictions))"
   ]
  },
  {
   "cell_type": "markdown",
   "metadata": {},
   "source": [
    "SVM"
   ]
  },
  {
   "cell_type": "code",
   "execution_count": null,
   "metadata": {},
   "outputs": [],
   "source": [
    "svm = SVC()\n",
    "svm.fit(X_train, y_train)\n",
    "predictions = dt.predict(X_test)\n",
    "print('Accuracy score: ', accuracy_score(predictions, np.array(y_test)))\n",
    "print('F1 Score: ', f1_score(predictions, np.array(y_test), average='weighted'))\n",
    "print('Classification report: \\n', classification_report(y_test, predictions))\n",
    "print('Confusion Matrix: \\n', confusion_matrix(y_test, predictions))"
   ]
  },
  {
   "cell_type": "markdown",
   "metadata": {},
   "source": [
    "Decision Tree"
   ]
  },
  {
   "cell_type": "code",
   "execution_count": null,
   "metadata": {},
   "outputs": [],
   "source": [
    "dt = DecisionTreeClassifier()\n",
    "dt.fit(X_train, y_train)\n",
    "predictions = dt.predict(X_test)\n",
    "print('Accuracy score: ', accuracy_score(predictions, np.array(y_test)))\n",
    "print('F1 Score: ', f1_score(predictions, np.array(y_test), average='weighted'))\n",
    "print('Classification report: \\n', classification_report(y_test, predictions))\n",
    "print('Confusion Matrix: \\n', confusion_matrix(y_test, predictions))"
   ]
  },
  {
   "cell_type": "markdown",
   "metadata": {},
   "source": [
    "Models run with cross validation"
   ]
  },
  {
   "cell_type": "markdown",
   "metadata": {},
   "source": [
    "Run the cell below to prep data for cross validation X - 330 feature vectors, y - 330 labels"
   ]
  },
  {
   "cell_type": "code",
   "execution_count": null,
   "metadata": {},
   "outputs": [],
   "source": [
    "# wav file data, metadata labels, all in one dataframe for use with cross validation\n",
    "train_data = pd.read_csv('csv_data/df_train_wav_consolidated.csv')\n",
    "labels = pd.read_csv('csv_data/musicnet_metadata.csv')\n",
    "labels.rename({'id': 'filename'}, axis=1, inplace=True)\n",
    "train = pd.merge(train_data, labels, on =['filename'])\n",
    "train.drop(['Unnamed: 0', 'filename', 'composer', 'composition', 'movement', 'source', 'transcriber', 'transcriber', 'catalog_name', 'seconds'], axis=1, inplace=True)  # todo: try to include some of these featues\n",
    "X_train = train.drop('ensemble', axis=1)\n",
    "y_train = train['ensemble']\n",
    "code = {}\n",
    "j = 0\n",
    "for i in y_train.value_counts().index:\n",
    "    code[i] = j\n",
    "    j+=1\n",
    "y_train.replace(code, inplace=True)\n",
    "\n",
    "test_data = pd.read_csv('csv_data/df_test_wav_finc.csv')\n",
    "test = pd.merge(test_data, labels, on=['filename'])\n",
    "test.drop(['Unnamed: 0', 'filename', 'composer', 'composition', 'movement', 'source', 'transcriber', 'transcriber', 'catalog_name', 'seconds'], axis=1, inplace=True)\n",
    "X_test = test.drop('ensemble', axis=1)\n",
    "y_test = test['ensemble']\n",
    "y_test.replace(code, inplace=True)\n",
    "\n",
    "X = pd.concat([X_train, X_test])\n",
    "y = pd.concat([y_train, y_test])"
   ]
  },
  {
   "cell_type": "markdown",
   "metadata": {},
   "source": [
    "Run the cell below to run cross validation"
   ]
  },
  {
   "cell_type": "markdown",
   "metadata": {},
   "source": [
    "USE THIS CELL BELOW!!!"
   ]
  },
  {
   "cell_type": "code",
   "execution_count": null,
   "metadata": {},
   "outputs": [],
   "source": [
    "# linear regression\n",
    "lr = LogisticRegression(C = 0.5, solver='liblinear', multi_class='auto')\n",
    "lr.fit(np.array(X_train), np.array(y_train))\n",
    "scores = cross_val_score(estimator = lr, X=X, y=y, cv=5, n_jobs=1)\n",
    "print('Linear regression')\n",
    "print('CV Scores: ', scores)\n",
    "print('CV Average and standard deviation: ', np.mean(scores), '+/-', np.std(scores))\n",
    "# naive bayes\n",
    "gnb = GaussianNB()\n",
    "gnb.fit(X_train, np.array(y_train))\n",
    "scores = cross_val_score(estimator = gnb, X=X, y=y, cv=5, n_jobs=1)\n",
    "print('Naive Bayes')\n",
    "print('CV Scores: ', scores)\n",
    "print('CV Average and standard deviation: ', np.mean(scores), '+/-', np.std(scores))\n",
    "# SVM\n",
    "svm = SVC()\n",
    "svm.fit(X_train, y_train)\n",
    "scores = cross_val_score(estimator = svm, X=X, y=y, cv=5, n_jobs=1)\n",
    "print('SVM')\n",
    "print('CV Scores: ', scores)\n",
    "print('CV Average and standard deviation: ', np.mean(scores), '+/-', np.std(scores))\n",
    "# decision tree\n",
    "dt = DecisionTreeClassifier()\n",
    "dt.fit(X_train, y_train)\n",
    "scores = cross_val_score(estimator = dt, X=X, y=y, cv=5, n_jobs=1)\n",
    "print('Decision Tree')\n",
    "print('CV Scores: ', scores)\n",
    "print('CV Average and standard deviation: ', np.mean(scores), '+/-', np.std(scores))"
   ]
  },
  {
   "cell_type": "code",
   "execution_count": null,
   "metadata": {},
   "outputs": [],
   "source": []
  }
 ],
 "metadata": {
  "kernelspec": {
   "display_name": "Python 3",
   "language": "python",
   "name": "python3"
  },
  "language_info": {
   "codemirror_mode": {
    "name": "ipython",
    "version": 3
   },
   "file_extension": ".py",
   "mimetype": "text/x-python",
   "name": "python",
   "nbconvert_exporter": "python",
   "pygments_lexer": "ipython3",
   "version": "3.8.5"
  }
 },
 "nbformat": 4,
 "nbformat_minor": 4
}
