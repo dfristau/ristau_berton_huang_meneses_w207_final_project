{
 "cells": [
  {
   "cell_type": "markdown",
   "metadata": {},
   "source": [
    "# Support Vector Machines for Music Classification"
   ]
  },
  {
   "cell_type": "markdown",
   "metadata": {},
   "source": [
    "## Libraries"
   ]
  },
  {
   "cell_type": "code",
   "execution_count": 1,
   "metadata": {},
   "outputs": [],
   "source": [
    "# import libraries\n",
    "import os\n",
    "import random\n",
    "import numpy as np\n",
    "import pandas as pd\n",
    "import glob\n",
    "import matplotlib.pyplot as plt\n",
    "import seaborn as sns   \n",
    "\n",
    "\n",
    "from sklearn.pipeline import make_pipeline\n",
    "from sklearn.preprocessing import StandardScaler\n",
    "from sklearn.preprocessing import MinMaxScaler\n",
    "\n",
    "from sklearn.svm import SVC\n",
    "import sklearn.model_selection as model_selection\n",
    "\n",
    "from sklearn import metrics\n",
    "from sklearn.metrics import precision_score, recall_score, f1_score, accuracy_score\n",
    "from sklearn.metrics import classification_report\n",
    "from sklearn.metrics import confusion_matrix\n",
    "from sklearn.model_selection import cross_val_score\n",
    "from sklearn.metrics import plot_confusion_matrix\n",
    "\n",
    "from sklearn.decomposition import PCA\n",
    "from sklearn.model_selection import GridSearchCV\n",
    "from collections import Counter\n",
    "from imblearn.over_sampling import SMOTE\n",
    "from sklearn.model_selection import train_test_split\n",
    "import warnings\n",
    "warnings.simplefilter(action='ignore', category=FutureWarning)\n",
    "\n",
    "%matplotlib inline"
   ]
  },
  {
   "cell_type": "markdown",
   "metadata": {},
   "source": [
    "## Import csv features which were extracted from earlier Data PreProcessing notebook"
   ]
  },
  {
   "cell_type": "code",
   "execution_count": 2,
   "metadata": {},
   "outputs": [],
   "source": [
    "#Import data\n",
    "\n",
    "#Get metadata\n",
    "metadata=pd.read_csv('../data/musicnet_metadata.csv')\n",
    "\n",
    "# Get consolidated saved csvs of WAV Spectral features only\n",
    "train_wav = pd.read_csv('../data/df_train_wav_consolidated.csv',index_col=0)\n",
    "test_wav = pd.read_csv('../data/df_test_wav_finc.csv',index_col=0)\n",
    "\n",
    "#Get midi features only\n",
    "midi_features = pd.read_csv('../data/midi_features.csv',index_col=0)\n"
   ]
  },
  {
   "cell_type": "markdown",
   "metadata": {},
   "source": [
    "## Import Wav Data for Spectral Features only"
   ]
  },
  {
   "cell_type": "code",
   "execution_count": 3,
   "metadata": {},
   "outputs": [
    {
     "name": "stderr",
     "output_type": "stream",
     "text": [
      "C:\\Users\\Zhuang\\anaconda3\\lib\\site-packages\\pandas\\core\\frame.py:4908: SettingWithCopyWarning: \n",
      "A value is trying to be set on a copy of a slice from a DataFrame\n",
      "\n",
      "See the caveats in the documentation: https://pandas.pydata.org/pandas-docs/stable/user_guide/indexing.html#returning-a-view-versus-a-copy\n",
      "  errors=errors,\n"
     ]
    }
   ],
   "source": [
    "#Create X and y for Wav Data only\n",
    "\n",
    "#Make a copy of the metadata\n",
    "meta_data_copy = metadata.copy(deep=True)\n",
    "meta_data_copy.reset_index(inplace=True)\n",
    "\n",
    "#Rename column name\n",
    "meta_data_copy = meta_data_copy.rename(columns = {'id':'filename'})\n",
    "\n",
    "#Merge Metadata and Wav Data Only\n",
    "merged_train_data_w = pd.merge(train_wav , meta_data_copy , on=\"filename\")\n",
    "merged_train_data_w = merged_train_data_w.drop([\"composer\", \"composition\", \"movement\",\"source\",\"transcriber\",\"catalog_name\",\"index\"], axis=1)\n",
    "\n",
    "merged_test_data_w = pd.merge(test_wav , meta_data_copy , on=\"filename\")\n",
    "merged_test_data_w = merged_test_data_w.drop([\"composer\", \"composition\", \"movement\",\"source\",\"transcriber\",\"catalog_name\",\"index\"], axis=1)\n",
    "\n",
    "#Checked that unique ensembles in test are a subset of train\n",
    "#Get list of unique ensembles\n",
    "ens_list = merged_train_data_w['ensemble'].unique()\n",
    "\n",
    "#Map list of unique ensemble names to integer\n",
    "mapping = {item:i for i, item in enumerate(ens_list)}\n",
    "merged_train_data_w[\"ensemble\"] = merged_train_data_w[\"ensemble\"].apply(lambda x: mapping[x])\n",
    "merged_test_data_w[\"ensemble\"] = merged_test_data_w[\"ensemble\"].apply(lambda x: mapping[x])\n",
    "\n",
    "#This is the original train test split given in kaggle. \n",
    "#The code is selecting only the ensemble for the y and letting the rest of the features be in X\n",
    "\n",
    "X_original_train = merged_train_data_w.iloc[:,np.r_[:167,168]]\n",
    "X_original_test = merged_test_data_w.iloc[:,np.r_[:167,168]]\n",
    "\n",
    "y_original_train = merged_train_data_w.iloc[:,167:168]\n",
    "y_original_test = merged_test_data_w.iloc[:,167:168]\n",
    "\n",
    "#Concatenate the training and test data\n",
    "x_frames = [X_original_train,X_original_test]\n",
    "X_wav = pd.concat(x_frames , ignore_index=True)\n",
    "\n",
    "y_frames = [y_original_train,y_original_test]\n",
    "y_wav = pd.concat(y_frames , ignore_index=True)\n",
    "\n",
    "#Find the index position of viola quintet and drop it since there is only one ensemble of that type\n",
    "index_violaquintet_wav_only = y_wav[ y_wav['ensemble'] == 3 ].index\n",
    "y_wav.drop(index_violaquintet_wav_only , inplace=True)\n",
    "X_wav.drop(index_violaquintet_wav_only , inplace=True)\n",
    "\n",
    "#This is the train test split for Spectral Wav Data only\n",
    "X_train_w, X_test_w, y_train_w, y_test_w = train_test_split(X_wav, y_wav, train_size=0.80, test_size=0.20, stratify=y_wav, random_state=101)\n",
    "\n",
    "#Get list of file names in train and test to apply split consistently on other datasets\n",
    "filenames_in_train = list(X_train_w['filename'])\n",
    "filenames_in_test = list(X_test_w['filename'])\n",
    "\n",
    "#Remove File name from features\n",
    "X_train_w.drop('filename',axis=1,inplace=True) \n",
    "X_test_w.drop('filename',axis=1,inplace=True) \n"
   ]
  },
  {
   "cell_type": "markdown",
   "metadata": {},
   "source": [
    "## Print list of ensembles for reference"
   ]
  },
  {
   "cell_type": "code",
   "execution_count": 4,
   "metadata": {},
   "outputs": [
    {
     "data": {
      "text/plain": [
       "array(['Piano Quintet', 'Solo Piano', 'Piano Trio', 'Viola Quintet',\n",
       "       'String Quartet', 'Clarinet Quintet',\n",
       "       'Pairs Clarinet-Horn-Bassoon', 'Wind Quintet', 'Accompanied Cello',\n",
       "       'Accompanied Clarinet', 'Wind and Strings Octet', 'String Sextet',\n",
       "       'Piano Quartet', 'Horn Piano Trio', 'Solo Violin', 'Solo Flute',\n",
       "       'Solo Cello', 'Violin and Harpsichord',\n",
       "       'Clarinet-Cello-Piano Trio', 'Accompanied Violin', 'Wind Octet'],\n",
       "      dtype=object)"
      ]
     },
     "execution_count": 4,
     "metadata": {},
     "output_type": "execute_result"
    }
   ],
   "source": [
    "#print ensemble list\n",
    "ens_list"
   ]
  },
  {
   "cell_type": "markdown",
   "metadata": {},
   "source": [
    "## Import MIDI Features for Engineered Features from Granular Data"
   ]
  },
  {
   "cell_type": "code",
   "execution_count": 5,
   "metadata": {},
   "outputs": [],
   "source": [
    "#Create X and y for Granular MIDI Data Attributes only\n",
    "\n",
    "#Make a copy of the midi features\n",
    "midi_features_copy = midi_features.copy(deep=True)\n",
    "midi_features_copy.reset_index(inplace=True)\n",
    "\n",
    "#Rename column name in both the copy and the original\n",
    "midi_features_copy = midi_features_copy.rename(columns = {'file_name':'filename'})\n",
    "midi_features = midi_features.rename(columns = {'file_name':'filename'})\n",
    "\n",
    "\n",
    "#Merge Metadata and MIDI Data only\n",
    "\n",
    "#For original midi\n",
    "merged_midi_data = pd.merge(midi_features , meta_data_copy , on=\"filename\")\n",
    "merged_midi_data = merged_midi_data.drop([\"composer\", \"composition\", \"movement\",\"source\",\"transcriber\",\"catalog_name\",\"index\"], axis=1)\n",
    "\n",
    "#For midi copy\n",
    "merged_midi_data_copy = pd.merge(midi_features_copy , meta_data_copy , on=\"filename\")\n",
    "merged_midi_data_copy = merged_midi_data_copy.drop([\"composer\", \"composition\", \"movement\",\"source\",\"transcriber\",\"catalog_name\",\"index_x\"], axis=1)\n",
    "\n",
    "#Map list of unique ensemble names to integer\n",
    "\n",
    "#For original midi\n",
    "merged_midi_data[\"ensemble\"] = merged_midi_data[\"ensemble\"].apply(lambda x: mapping[x])\n",
    "\n",
    "#For midi copy\n",
    "merged_midi_data_copy[\"ensemble\"] = merged_midi_data_copy[\"ensemble\"].apply(lambda x: mapping[x])\n",
    "\n",
    "#To select data for train and test for midi based on the same splits done for wav based on multiple conditions you can use &:\n",
    "#Removes file name as a feature and also removes viola quintet\n",
    "midi_train = merged_midi_data.loc[merged_midi_data['filename'].isin(filenames_in_train)]\n",
    "X_train_m = midi_train.iloc[:,np.r_[1:10,11]]\n",
    "y_train_m = midi_train.iloc[:,np.r_[10]]\n",
    "\n",
    "midi_test = merged_midi_data.loc[merged_midi_data['filename'].isin(filenames_in_test)]\n",
    "X_test_m = midi_test.iloc[:,np.r_[1:10,11]]\n",
    "y_test_m = midi_test.iloc[:,np.r_[10]]\n",
    "\n"
   ]
  },
  {
   "cell_type": "markdown",
   "metadata": {},
   "source": [
    "## Create Merged Dataset comprising Engineered Features from MIDI Data and Spectral Features from Wav Data"
   ]
  },
  {
   "cell_type": "code",
   "execution_count": 6,
   "metadata": {},
   "outputs": [],
   "source": [
    "# Create Dataset with MIDI and WAV Spectral Data\n",
    "\n",
    "#Drop duplicate columns\n",
    "merged_midi_data_copy.drop(['seconds','index_y'],axis=1,inplace=True) \n",
    "\n",
    "#Find the index position of viola quintet and drop it since there is only one ensemble of that type\n",
    "index_violaquintet_midi_only = merged_midi_data_copy[ merged_midi_data_copy['ensemble'] == 3 ].index\n",
    "merged_midi_data_copy.drop(index_violaquintet_midi_only , inplace=True)\n",
    "\n",
    "#Merge Midi and Wav Data \n",
    "merged_data_c = pd.merge(X_wav, merged_midi_data_copy , on=\"filename\")\n",
    "\n",
    "#To select data for train and test for midi based on the same splits done for wav based on multiple conditions you can use &:\n",
    "#Removes file name as a feature and also removes viola quintet\n",
    "comb_train = merged_data_c.loc[merged_data_c['filename'].isin(filenames_in_train)]\n",
    "X_train_c = comb_train.iloc[:,np.r_[0,2:177]]\n",
    "y_train_c = comb_train.iloc[:,np.r_[177]]\n",
    "\n",
    "comb_test = merged_data_c.loc[merged_data_c['filename'].isin(filenames_in_test)]\n",
    "X_test_c = comb_test.iloc[:,np.r_[0,2:177]]\n",
    "y_test_c = comb_test.iloc[:,np.r_[177]]\n",
    "\n"
   ]
  },
  {
   "cell_type": "code",
   "execution_count": 7,
   "metadata": {},
   "outputs": [
    {
     "name": "stdout",
     "output_type": "stream",
     "text": [
      "Shape of Wav Data :\n",
      "(263, 167) (263, 1) (66, 167) (66, 1)\n"
     ]
    }
   ],
   "source": [
    "print('Shape of Wav Data :')\n",
    "print( X_train_w.shape, y_train_w.shape , X_test_w.shape , y_test_w.shape)"
   ]
  },
  {
   "cell_type": "code",
   "execution_count": 8,
   "metadata": {},
   "outputs": [
    {
     "name": "stdout",
     "output_type": "stream",
     "text": [
      "Shape of MIDI Data :\n",
      "(263, 10) (263, 1) (66, 10) (66, 1)\n"
     ]
    }
   ],
   "source": [
    "print('Shape of MIDI Data :')\n",
    "print( X_train_m.shape, y_train_m.shape , X_test_m.shape , y_test_m.shape)"
   ]
  },
  {
   "cell_type": "code",
   "execution_count": 9,
   "metadata": {},
   "outputs": [
    {
     "name": "stdout",
     "output_type": "stream",
     "text": [
      "Shape of Combined Wav and MIDI Data :\n",
      "(263, 176) (263, 1) (66, 176) (66, 1)\n"
     ]
    }
   ],
   "source": [
    "print('Shape of Combined Wav and MIDI Data :')\n",
    "print( X_train_c.shape, y_train_c.shape , X_test_c.shape , y_test_c.shape)"
   ]
  },
  {
   "cell_type": "markdown",
   "metadata": {},
   "source": [
    "# SVM Scenario 1 : Baseline SVM Results with Spectral Data only"
   ]
  },
  {
   "cell_type": "markdown",
   "metadata": {},
   "source": [
    "### 1. Baseline defaults with no hyperparameter tuning (Spectral only)"
   ]
  },
  {
   "cell_type": "code",
   "execution_count": 10,
   "metadata": {},
   "outputs": [
    {
     "name": "stderr",
     "output_type": "stream",
     "text": [
      "C:\\Users\\Zhuang\\anaconda3\\lib\\site-packages\\sklearn\\model_selection\\_split.py:668: UserWarning: The least populated class in y has only 2 members, which is less than n_splits=5.\n",
      "  % (min_groups, self.n_splits)), UserWarning)\n"
     ]
    },
    {
     "name": "stdout",
     "output_type": "stream",
     "text": [
      "SVM Baseline with no hyperparameter tuning\n",
      "CV Scores:  [0.52830189 0.60377358 0.56603774 0.61538462 0.59615385]\n",
      "CV Average and standard deviation:  0.5819303338171263 +/- 0.03139175011674026\n"
     ]
    }
   ],
   "source": [
    "#Create baseline SVM model with Spectral Data\n",
    "\n",
    "svm = make_pipeline(SVC())\n",
    "svm.fit(X_train_w, y_train_w.values.ravel())\n",
    "\n",
    "#Apply 5 fold cross validation scoring to make sure results are reliable\n",
    "\n",
    "scores = cross_val_score(estimator = svm, X=X_train_w, y=y_train_w.values.ravel(), cv=5,n_jobs=1)\n",
    "print('SVM Baseline with no hyperparameter tuning')\n",
    "print('CV Scores: ', scores)\n",
    "print('CV Average and standard deviation: ', np.mean(scores), '+/-', np.std(scores))"
   ]
  },
  {
   "cell_type": "markdown",
   "metadata": {},
   "source": [
    "###  2. Find the best parameters to use via hyperparameter tuning (Spectral only)"
   ]
  },
  {
   "cell_type": "code",
   "execution_count": 12,
   "metadata": {},
   "outputs": [
    {
     "name": "stderr",
     "output_type": "stream",
     "text": [
      "C:\\Users\\Zhuang\\anaconda3\\lib\\site-packages\\sklearn\\model_selection\\_split.py:668: UserWarning: The least populated class in y has only 2 members, which is less than n_splits=5.\n",
      "  % (min_groups, self.n_splits)), UserWarning)\n"
     ]
    },
    {
     "name": "stdout",
     "output_type": "stream",
     "text": [
      "{'C': 0.004832930238571752, 'gamma': 0.001, 'kernel': 'linear'}\n"
     ]
    }
   ],
   "source": [
    "#Find best hyperparameters\n",
    "param_grid = {'C': np.logspace(-4, 4, 20), \n",
    "              'gamma': np.logspace(-3, 2, 6),                     \n",
    "              'kernel': ['linear','rbf','poly']} \n",
    "  \n",
    "grid = GridSearchCV(SVC(), param_grid, cv=5)\n",
    "  \n",
    "# fitting the model for grid search\n",
    "grid.fit(X_train_w, y_train_w.values.ravel())\n",
    "\n",
    "print(grid.best_params_)"
   ]
  },
  {
   "cell_type": "code",
   "execution_count": 13,
   "metadata": {},
   "outputs": [
    {
     "name": "stdout",
     "output_type": "stream",
     "text": [
      "SVM with hyperparameter tuning\n",
      "CV Scores:  [0.86792453 0.81132075 0.79245283 0.90384615 0.90384615]\n",
      "CV Average and standard deviation:  0.8558780841799709 +/- 0.04637910452717963\n"
     ]
    },
    {
     "name": "stderr",
     "output_type": "stream",
     "text": [
      "C:\\Users\\Zhuang\\anaconda3\\lib\\site-packages\\sklearn\\model_selection\\_split.py:668: UserWarning: The least populated class in y has only 2 members, which is less than n_splits=5.\n",
      "  % (min_groups, self.n_splits)), UserWarning)\n"
     ]
    }
   ],
   "source": [
    "#Create Model with best hyperparameters\n",
    "\n",
    "svm = make_pipeline(SVC(kernel=grid.best_params_['kernel'], C = grid.best_params_['C'] , gamma=grid.best_params_['gamma']))\n",
    "svm.fit(X_train_w, y_train_w.values.ravel())\n",
    "\n",
    "#Apply 5 fold cross validation scoring to make sure results are reliable\n",
    "\n",
    "scores = cross_val_score(estimator = svm, X=X_train_w, y=y_train_w.values.ravel(), cv=5, n_jobs=1)\n",
    "print('SVM with hyperparameter tuning')\n",
    "print('CV Scores: ', scores)\n",
    "print('CV Average and standard deviation: ', np.mean(scores), '+/-', np.std(scores))"
   ]
  },
  {
   "cell_type": "markdown",
   "metadata": {},
   "source": [
    "### 3. Try PCA to reduce features (Spectral only)"
   ]
  },
  {
   "cell_type": "code",
   "execution_count": 15,
   "metadata": {},
   "outputs": [
    {
     "name": "stdout",
     "output_type": "stream",
     "text": [
      "    Number of PCA Components  Explained Fraction of Total Variance\n",
      "0                          1                              0.849670\n",
      "1                          2                              0.943205\n",
      "2                          3                              0.965744\n",
      "3                          4                              0.974015\n",
      "4                          5                              0.980815\n",
      "5                          6                              0.984211\n",
      "6                          7                              0.986923\n",
      "7                          8                              0.989549\n",
      "8                          9                              0.991405\n",
      "9                         10                              0.992736\n",
      "10                        11                              0.993610\n",
      "11                        12                              0.994300\n",
      "12                        13                              0.994920\n",
      "13                        14                              0.995502\n",
      "14                        15                              0.996005\n",
      "15                        16                              0.996425\n",
      "16                        17                              0.996799\n",
      "17                        18                              0.997139\n",
      "18                        19                              0.997444\n",
      "19                        20                              0.997721\n",
      "20                        21                              0.997969\n",
      "21                        22                              0.998184\n",
      "22                        23                              0.998362\n",
      "23                        24                              0.998526\n"
     ]
    },
    {
     "data": {
      "image/png": "[encoded data removed]",
      "text/plain": [
       "<Figure size 432x288 with 1 Axes>"
      ]
     },
     "metadata": {
      "needs_background": "light"
     },
     "output_type": "display_data"
    }
   ],
   "source": [
    "# Create list of K dimensions to test for PCA\n",
    "p_comp = np.arange(1,25)\n",
    "\n",
    "\n",
    "# Create empty list to store fraction of total variance\n",
    "fraction_total_variance = []\n",
    "\n",
    "# Write for loop to try k values for PCA\n",
    "for i in p_comp:\n",
    "    pca=PCA(n_components = i)\n",
    "    pca.fit(X_train_w)\n",
    "    train_pca_w = pca.transform(X_train_w)\n",
    "    \n",
    "    #Append fractions of explained total variance\n",
    "    fraction_total_variance.append(np.sum(pca.explained_variance_ratio_))\n",
    "    \n",
    "\n",
    "#Show what fraction of the total variance in the training data is explained by the first k principal components, for k in [1, 2, 3, 4, 5, 10, 20, 30, 40, 50].    \n",
    "variance_pca_df = pd.DataFrame({'Number of PCA Components':p_comp , 'Explained Fraction of Total Variance' :fraction_total_variance })\n",
    "\n",
    "pd.set_option(\"display.max_rows\", 500, \"display.max_columns\", 5, 'display.width', 1000)  \n",
    "print(variance_pca_df)\n",
    "\n",
    "\n",
    "#all possible values of k can go up to 166 i.e. one less than 167\n",
    "all_possible_k = np.arange(1,167)\n",
    "\n",
    "# Create empty list to store fraction of total variance\n",
    "all_possible_k_variance = []\n",
    "\n",
    "# Write for loop to try k values for PCA\n",
    "for i in all_possible_k:\n",
    "    pca=PCA(n_components = i)\n",
    "    pca.fit(X_train_w)\n",
    "    train_pca_w = pca.transform(X_train_w)\n",
    "    \n",
    "    #Append fractions of explained total variance\n",
    "    all_possible_k_variance.append(np.sum(pca.explained_variance_ratio_))\n",
    "    \n",
    "\n",
    "\n",
    "plt.plot(all_possible_k, all_possible_k_variance)\n",
    "\n",
    "# show lineplot of fraction of total variance vs. number of principal components, for all possible numbers of principal components.\n",
    "# Add title and axis names\n",
    "plt.title('Number of PCA Components vs Explained Variance Fraction ')\n",
    "plt.xlabel('Number of PCA Components')\n",
    "plt.ylabel('Explained Variance')\n",
    "\n",
    "plt.show()  "
   ]
  },
  {
   "cell_type": "markdown",
   "metadata": {},
   "source": [
    "### 4. Perform Hyperparamter Tuning for PCA with 15 Components (Spectral only)"
   ]
  },
  {
   "cell_type": "code",
   "execution_count": 16,
   "metadata": {},
   "outputs": [
    {
     "name": "stderr",
     "output_type": "stream",
     "text": [
      "C:\\Users\\Zhuang\\anaconda3\\lib\\site-packages\\sklearn\\model_selection\\_split.py:668: UserWarning: The least populated class in y has only 2 members, which is less than n_splits=5.\n",
      "  % (min_groups, self.n_splits)), UserWarning)\n"
     ]
    },
    {
     "name": "stdout",
     "output_type": "stream",
     "text": [
      "{'C': 0.03359818286283781, 'gamma': 0.001, 'kernel': 'linear'}\n"
     ]
    }
   ],
   "source": [
    "#Perform PCA with 15 components\n",
    "pca=PCA(n_components = 15)\n",
    "pca.fit(X_train_w)\n",
    "train_pca_w = pca.transform(X_train_w)\n",
    "\n",
    "from sklearn.model_selection import GridSearchCV\n",
    "  \n",
    "# defining parameter range\n",
    "param_grid = {'C': np.logspace(-4, 4, 20), \n",
    "              'gamma': np.logspace(-3, 2, 6),\n",
    "              'kernel': ['linear','rbf','poly']} \n",
    "  \n",
    "grid = GridSearchCV(SVC(), param_grid , cv=5)\n",
    "  \n",
    "# fitting the model for grid search\n",
    "grid.fit(train_pca_w, y_train_w.values.ravel())\n",
    "\n",
    "print(grid.best_params_)"
   ]
  },
  {
   "cell_type": "code",
   "execution_count": 17,
   "metadata": {},
   "outputs": [
    {
     "name": "stdout",
     "output_type": "stream",
     "text": [
      "SVM with hyperparameter tuning and PCA\n",
      "CV Scores:  [0.8490566  0.77358491 0.79245283 0.88461538 0.92307692]\n",
      "CV Average and standard deviation:  0.8445573294629899 +/- 0.05575335257768051\n"
     ]
    },
    {
     "name": "stderr",
     "output_type": "stream",
     "text": [
      "C:\\Users\\Zhuang\\anaconda3\\lib\\site-packages\\sklearn\\model_selection\\_split.py:668: UserWarning: The least populated class in y has only 2 members, which is less than n_splits=5.\n",
      "  % (min_groups, self.n_splits)), UserWarning)\n"
     ]
    }
   ],
   "source": [
    "\n",
    "#Create Model with best hyperparameters and PCA\n",
    "svm = make_pipeline(SVC(kernel=grid.best_params_['kernel'], C = grid.best_params_['C'] , gamma=grid.best_params_['gamma']))\n",
    "svm.fit(train_pca_w, y_train_w.values.ravel())\n",
    "\n",
    "\n",
    "#Apply 5 fold cross validation scoring to make sure results are reliable\n",
    "scores = cross_val_score(estimator = svm, X=train_pca_w, y=y_train_w.values.ravel(), cv=5, n_jobs=1)\n",
    "print('SVM with hyperparameter tuning and PCA')\n",
    "print('CV Scores: ', scores)\n",
    "print('CV Average and standard deviation: ', np.mean(scores), '+/-', np.std(scores))"
   ]
  },
  {
   "cell_type": "markdown",
   "metadata": {},
   "source": [
    "#### Observation : PCA does not reduce score but reduces number of features to just 15 principal components"
   ]
  },
  {
   "cell_type": "markdown",
   "metadata": {},
   "source": [
    "### 5. Try SMOTE Algorithm to oversample minority classes and to overcome issue of of not having enough samples in those classes (Spectral only)\n"
   ]
  },
  {
   "cell_type": "code",
   "execution_count": 19,
   "metadata": {},
   "outputs": [
    {
     "name": "stdout",
     "output_type": "stream",
     "text": [
      "Before oversampling:  Counter({1: 125, 4: 46, 19: 18, 16: 10, 14: 7, 7: 7, 12: 6, 8: 6, 2: 6, 6: 5, 11: 4, 20: 3, 13: 3, 0: 3, 9: 3, 17: 3, 10: 2, 5: 2, 15: 2, 18: 2})\n"
     ]
    }
   ],
   "source": [
    "print(\"Before oversampling: \",Counter(y_train_w.values.ravel()))"
   ]
  },
  {
   "cell_type": "code",
   "execution_count": 20,
   "metadata": {},
   "outputs": [],
   "source": [
    "#Drop any ensemble types with counts below 6\n",
    "counts = y_train_w['ensemble'].value_counts()\n",
    "X_train_w_smote = X_train_w[~y_train_w['ensemble'].isin(counts[counts < 6].index)]\n",
    "y_train_w_smote = y_train_w[~y_train_w['ensemble'].isin(counts[counts < 6].index)]\n"
   ]
  },
  {
   "cell_type": "code",
   "execution_count": 21,
   "metadata": {},
   "outputs": [
    {
     "name": "stdout",
     "output_type": "stream",
     "text": [
      "(231, 167) (231, 1)\n"
     ]
    }
   ],
   "source": [
    "#Now print data shape\n",
    "print(X_train_w_smote.shape, y_train_w_smote.shape)"
   ]
  },
  {
   "cell_type": "code",
   "execution_count": 22,
   "metadata": {},
   "outputs": [
    {
     "name": "stdout",
     "output_type": "stream",
     "text": [
      "After oversampling:  Counter({19: 125, 1: 125, 12: 125, 14: 125, 16: 125, 4: 125, 7: 125, 8: 125, 2: 125})\n"
     ]
    }
   ],
   "source": [
    "# fit and apply the transform\n",
    "X_SMOTE, y_SMOTE = SMOTE().fit_resample(X_train_w_smote, y_train_w_smote.values.ravel())\n",
    "\n",
    "# summarize class distribution\n",
    "print(\"After oversampling: \",Counter(y_SMOTE))"
   ]
  },
  {
   "cell_type": "code",
   "execution_count": 23,
   "metadata": {},
   "outputs": [
    {
     "name": "stdout",
     "output_type": "stream",
     "text": [
      "    Number of PCA Components  Explained Fraction of Total Variance\n",
      "0                          1                              0.796608\n",
      "1                          2                              0.923647\n",
      "2                          3                              0.964902\n",
      "3                          4                              0.978526\n",
      "4                          5                              0.984484\n",
      "5                          6                              0.988859\n",
      "6                          7                              0.991334\n",
      "7                          8                              0.992586\n",
      "8                          9                              0.993666\n",
      "9                         10                              0.994538\n",
      "10                        11                              0.995268\n",
      "11                        12                              0.995857\n",
      "12                        13                              0.996385\n",
      "13                        14                              0.996846\n",
      "14                        15                              0.997228\n",
      "15                        16                              0.997525\n",
      "16                        17                              0.997804\n",
      "17                        18                              0.998051\n",
      "18                        19                              0.998281\n",
      "19                        20                              0.998493\n",
      "20                        21                              0.998681\n",
      "21                        22                              0.998855\n",
      "22                        23                              0.999001\n",
      "23                        24                              0.999104\n"
     ]
    },
    {
     "data": {
      "image/png": "[encoded data removed]",
      "text/plain": [
       "<Figure size 432x288 with 1 Axes>"
      ]
     },
     "metadata": {
      "needs_background": "light"
     },
     "output_type": "display_data"
    }
   ],
   "source": [
    "# Create list of K dimensions to test for PCA\n",
    "p_comp = np.arange(1,25)\n",
    "\n",
    "\n",
    "# Create empty list to store fraction of total variance\n",
    "fraction_total_variance = []\n",
    "\n",
    "# Write for loop to try k values for PCA\n",
    "for i in p_comp:\n",
    "    pca=PCA(n_components = i)\n",
    "    pca.fit(X_SMOTE)\n",
    "    train_pca_w_smote = pca.transform(X_SMOTE)\n",
    "    \n",
    "    #Append fractions of explained total variance\n",
    "    fraction_total_variance.append(np.sum(pca.explained_variance_ratio_))\n",
    "    \n",
    "\n",
    "#Show what fraction of the total variance in the training data is explained by the first k principal components, for k in [1, 2, 3, 4, 5, 10, 20, 30, 40, 50].    \n",
    "variance_pca_df = pd.DataFrame({'Number of PCA Components':p_comp , 'Explained Fraction of Total Variance' :fraction_total_variance })\n",
    "\n",
    "pd.set_option(\"display.max_rows\", 500, \"display.max_columns\", 5, 'display.width', 1000)  \n",
    "print(variance_pca_df)\n",
    "\n",
    "\n",
    "#all possible values of k can go up to 166 i.e. one less than 167\n",
    "all_possible_k = np.arange(1,167)\n",
    "\n",
    "# Create empty list to store fraction of total variance\n",
    "all_possible_k_variance = []\n",
    "\n",
    "# Write for loop to try k values for PCA\n",
    "for i in all_possible_k:\n",
    "    pca=PCA(n_components = i)\n",
    "    pca.fit(X_SMOTE)\n",
    "    train_pca_w_smote = pca.transform(X_SMOTE)\n",
    "    \n",
    "    #Append fractions of explained total variance\n",
    "    all_possible_k_variance.append(np.sum(pca.explained_variance_ratio_))\n",
    "    \n",
    "\n",
    "plt.plot(all_possible_k, all_possible_k_variance)\n",
    "\n",
    "# show lineplot of fraction of total variance vs. number of principal components, for all possible numbers of principal components.\n",
    "# Add title and axis names\n",
    "plt.title('Number of PCA Components vs Explained Variance Fraction ')\n",
    "plt.xlabel('Number of PCA Components')\n",
    "plt.ylabel('Explained Variance')\n",
    "\n",
    "plt.show()  "
   ]
  },
  {
   "cell_type": "code",
   "execution_count": 24,
   "metadata": {},
   "outputs": [],
   "source": [
    "#Perform PCA with 15 components\n",
    "pca=PCA(n_components = 15)\n",
    "pca.fit(X_SMOTE)\n",
    "train_pca_w_smote = pca.transform(X_SMOTE)"
   ]
  },
  {
   "cell_type": "code",
   "execution_count": 25,
   "metadata": {},
   "outputs": [
    {
     "name": "stdout",
     "output_type": "stream",
     "text": [
      "{'C': 0.012742749857031334, 'gamma': 0.001, 'kernel': 'linear'}\n"
     ]
    }
   ],
   "source": [
    "from sklearn.model_selection import GridSearchCV\n",
    "  \n",
    "# defining parameter range\n",
    "param_grid = {'C': np.logspace(-4, 4, 20), \n",
    "              'gamma': np.logspace(-3, 2, 6),\n",
    "              'kernel': ['linear','rbf','poly']} \n",
    "  \n",
    "grid = GridSearchCV(SVC(), param_grid , cv=5)\n",
    "  \n",
    "# fitting the model for grid search\n",
    "grid.fit(train_pca_w_smote, y_SMOTE)\n",
    "\n",
    "print(grid.best_params_)"
   ]
  },
  {
   "cell_type": "code",
   "execution_count": 26,
   "metadata": {},
   "outputs": [
    {
     "name": "stdout",
     "output_type": "stream",
     "text": [
      "SVM with hyperparameter, PCA and SMOTE tuning\n",
      "CV Scores:  [1.         0.98222222 0.99555556 1.         0.99555556]\n",
      "CV Average and standard deviation:  0.9946666666666667 +/- 0.0065319726474218085\n"
     ]
    }
   ],
   "source": [
    "#Create SVM model with best hyperparameters, PCA and SMOTE\n",
    "\n",
    "svm = make_pipeline(SVC(kernel=grid.best_params_['kernel'], C = grid.best_params_['C'] , gamma=grid.best_params_['gamma']))\n",
    "svm.fit(train_pca_w_smote, y_SMOTE)\n",
    "scores = cross_val_score(estimator = svm, X=train_pca_w_smote, y=y_SMOTE, cv=5, n_jobs=1)\n",
    "\n",
    "#Apply 5 fold cross validation scoring to make sure results are reliable\n",
    "print('SVM with hyperparameter, PCA and SMOTE tuning')\n",
    "print('CV Scores: ', scores)\n",
    "print('CV Average and standard deviation: ', np.mean(scores), '+/-', np.std(scores))"
   ]
  },
  {
   "cell_type": "markdown",
   "metadata": {},
   "source": [
    "### 6. Try Data Preprocessing Techniques like Min Max Scaler or Standard Scaler (Spectral only)"
   ]
  },
  {
   "cell_type": "code",
   "execution_count": 28,
   "metadata": {},
   "outputs": [
    {
     "name": "stdout",
     "output_type": "stream",
     "text": [
      "SVM with hyperparameter tuning\n",
      "CV Scores:  [0.68444444 0.63555556 0.60888889 0.75111111 0.68      ]\n",
      "CV Average and standard deviation:  0.6719999999999999 +/- 0.048556445453325\n"
     ]
    }
   ],
   "source": [
    "#### MinMaxScaler Application\n",
    "\n",
    "#Create SVM model with best hyperparameters, PCA and SMOTE and MinMaxScaler\n",
    "\n",
    "svm = make_pipeline(MinMaxScaler() ,SVC(kernel=grid.best_params_['kernel'], C = grid.best_params_['C'] , gamma=grid.best_params_['gamma']))\n",
    "svm.fit(train_pca_w_smote, y_SMOTE)\n",
    "scores = cross_val_score(estimator = svm, X=train_pca_w_smote, y=y_SMOTE, cv=5, n_jobs=1)\n",
    "\n",
    "#Apply 5 fold cross validation scoring to make sure results are reliable\n",
    "print('SVM with hyperparameter tuning and MinMax Scaler')\n",
    "print('CV Scores: ', scores)\n",
    "print('CV Average and standard deviation: ', np.mean(scores), '+/-', np.std(scores))"
   ]
  },
  {
   "cell_type": "code",
   "execution_count": 29,
   "metadata": {},
   "outputs": [
    {
     "name": "stdout",
     "output_type": "stream",
     "text": [
      "SVM with hyperparameter tuning\n",
      "CV Scores:  [0.96444444 0.95111111 0.98222222 0.92888889 0.94666667]\n",
      "CV Average and standard deviation:  0.9546666666666667 +/- 0.017866445548659363\n"
     ]
    }
   ],
   "source": [
    "#### Standard Scaler Application\n",
    "\n",
    "#Create SVM model with best hyperparameters, PCA and SMOTE and StandardScaler\n",
    "\n",
    "svm = make_pipeline(StandardScaler() ,SVC(kernel=grid.best_params_['kernel'], C = grid.best_params_['C'] , gamma=grid.best_params_['gamma']))\n",
    "svm.fit(train_pca_w_smote, y_SMOTE)\n",
    "scores = cross_val_score(estimator = svm, X=train_pca_w_smote, y=y_SMOTE, cv=5, n_jobs=1)\n",
    "\n",
    "#Apply 5 fold cross validation scoring to make sure results are reliable\n",
    "print('SVM with hyperparameter tuning and Standard Scaler')\n",
    "print('CV Scores: ', scores)\n",
    "print('CV Average and standard deviation: ', np.mean(scores), '+/-', np.std(scores))"
   ]
  },
  {
   "cell_type": "markdown",
   "metadata": {},
   "source": [
    "#### Observation : Both MinMaxScaler and StandardScalers reduce the score for the model. Do not apply this."
   ]
  },
  {
   "cell_type": "markdown",
   "metadata": {},
   "source": [
    "# SVM Scenario 2 : Baseline SVM Results with MIDI Data only"
   ]
  },
  {
   "cell_type": "markdown",
   "metadata": {},
   "source": [
    "### 1. Baseline defaults with no hyperparameter tuning (MIDI Data only)"
   ]
  },
  {
   "cell_type": "code",
   "execution_count": 19,
   "metadata": {},
   "outputs": [
    {
     "name": "stdout",
     "output_type": "stream",
     "text": [
      "SVM Baseline with no hyperparameter tuning\n",
      "CV Scores:  [0.62264151 0.66037736 0.66037736 0.65384615 0.67307692]\n",
      "CV Average and standard deviation:  0.6540638606676342 +/- 0.016903423351571186\n"
     ]
    },
    {
     "name": "stderr",
     "output_type": "stream",
     "text": [
      "C:\\Users\\Zhuang\\anaconda3\\lib\\site-packages\\sklearn\\model_selection\\_split.py:668: UserWarning: The least populated class in y has only 2 members, which is less than n_splits=5.\n",
      "  % (min_groups, self.n_splits)), UserWarning)\n"
     ]
    }
   ],
   "source": [
    "#Create baseline SVM model with MIDI Data only\n",
    "\n",
    "svm = make_pipeline(SVC())\n",
    "svm.fit(X_train_m, y_train_m.values.ravel())\n",
    "\n",
    "#Apply 5 fold cross validation scoring to make sure results are reliable\n",
    "\n",
    "scores = cross_val_score(estimator = svm, X=X_train_m, y=y_train_m.values.ravel(), cv=5,n_jobs=1)\n",
    "print('SVM Baseline with no hyperparameter tuning')\n",
    "print('CV Scores: ', scores)\n",
    "print('CV Average and standard deviation: ', np.mean(scores), '+/-', np.std(scores))"
   ]
  },
  {
   "cell_type": "markdown",
   "metadata": {},
   "source": [
    "### 2. Find the best parameters to use via hyperparameter tuning (MIDI Data only)"
   ]
  },
  {
   "cell_type": "code",
   "execution_count": 23,
   "metadata": {},
   "outputs": [
    {
     "name": "stderr",
     "output_type": "stream",
     "text": [
      "C:\\Users\\Zhuang\\anaconda3\\lib\\site-packages\\sklearn\\model_selection\\_split.py:668: UserWarning: The least populated class in y has only 2 members, which is less than n_splits=5.\n",
      "  % (min_groups, self.n_splits)), UserWarning)\n"
     ]
    },
    {
     "name": "stdout",
     "output_type": "stream",
     "text": [
      "{'C': 545.5594781168514}\n"
     ]
    }
   ],
   "source": [
    "#Find best hyperparameters\n",
    "param_grid = {'C': np.logspace(-4, 4, 20)}\n",
    "grid = GridSearchCV(SVC(), param_grid)\n",
    "  \n",
    "# fitting the model for grid search\n",
    "grid.fit(X_train_m, y_train_m.values.ravel())\n",
    "\n",
    "print(grid.best_params_)"
   ]
  },
  {
   "cell_type": "markdown",
   "metadata": {},
   "source": [
    "### This model with C = 545 could not complete running after 2 hours. This is possibly because of the features makes the calculation complex."
   ]
  },
  {
   "cell_type": "code",
   "execution_count": null,
   "metadata": {},
   "outputs": [],
   "source": [
    "#Create Model with best hyperparameters\n",
    "\n",
    "svm = make_pipeline(SVC(kernel='linear', C = 545.559 ))\n",
    "svm.fit(X_train_m, y_train_m.values.ravel())\n",
    "\n",
    "#Apply 5 fold cross validation scoring to make sure results are reliable\n",
    "\n",
    "scores = cross_val_score(estimator = svm, X=X_train_m, y=y_train_m.values.ravel(), cv=5, n_jobs=1)\n",
    "print('SVM with hyperparameter tuning')\n",
    "print('CV Scores: ', scores)\n",
    "print('CV Average and standard deviation: ', np.mean(scores), '+/-', np.std(scores))"
   ]
  },
  {
   "cell_type": "markdown",
   "metadata": {},
   "source": [
    "### 4.  Try PCA Features to improve model speed and SMOTE Algorithm to oversample minority classes and to overcome issue of of not having enough samples in those classes (MIDI Data only)"
   ]
  },
  {
   "cell_type": "code",
   "execution_count": 15,
   "metadata": {},
   "outputs": [
    {
     "name": "stdout",
     "output_type": "stream",
     "text": [
      "Before oversampling:  Counter({1: 125, 4: 46, 19: 18, 16: 10, 7: 7, 14: 7, 2: 6, 8: 6, 12: 6, 6: 5, 11: 4, 0: 3, 9: 3, 13: 3, 17: 3, 20: 3, 5: 2, 10: 2, 15: 2, 18: 2})\n"
     ]
    }
   ],
   "source": [
    "print(\"Before oversampling: \",Counter(y_train_m.values.ravel()))"
   ]
  },
  {
   "cell_type": "code",
   "execution_count": 16,
   "metadata": {},
   "outputs": [],
   "source": [
    "#Drop any ensemble types with counts below 6\n",
    "counts = y_train_m['ensemble'].value_counts()\n",
    "X_train_m_smote = X_train_m[~y_train_m['ensemble'].isin(counts[counts < 6].index)]\n",
    "y_train_m_smote = y_train_m[~y_train_m['ensemble'].isin(counts[counts < 6].index)]\n"
   ]
  },
  {
   "cell_type": "code",
   "execution_count": 17,
   "metadata": {},
   "outputs": [
    {
     "name": "stdout",
     "output_type": "stream",
     "text": [
      "(231, 10) (231, 1)\n"
     ]
    }
   ],
   "source": [
    "#Now print data shape\n",
    "print(X_train_m_smote.shape, y_train_m_smote.shape)"
   ]
  },
  {
   "cell_type": "code",
   "execution_count": 19,
   "metadata": {},
   "outputs": [
    {
     "name": "stdout",
     "output_type": "stream",
     "text": [
      "After oversampling:  Counter({1: 125, 2: 125, 4: 125, 7: 125, 8: 125, 12: 125, 14: 125, 16: 125, 19: 125})\n"
     ]
    }
   ],
   "source": [
    "# fit and apply the transform\n",
    "X_SMOTE, y_SMOTE = SMOTE().fit_resample(X_train_m_smote, y_train_m_smote.values.ravel())\n",
    "\n",
    "# summarize class distribution\n",
    "print(\"After oversampling: \",Counter(y_SMOTE))"
   ]
  },
  {
   "cell_type": "code",
   "execution_count": 22,
   "metadata": {},
   "outputs": [
    {
     "name": "stdout",
     "output_type": "stream",
     "text": [
      "   Number of PCA Components  Explained Fraction of Total Variance\n",
      "0                         1                              0.905282\n",
      "1                         2                              1.000000\n",
      "2                         3                              1.000000\n",
      "3                         4                              1.000000\n",
      "4                         5                              1.000000\n",
      "5                         6                              1.000000\n",
      "6                         7                              1.000000\n",
      "7                         8                              1.000000\n",
      "8                         9                              1.000000\n"
     ]
    },
    {
     "data": {
      "image/png": "[encoded data removed]",
      "text/plain": [
       "<Figure size 432x288 with 1 Axes>"
      ]
     },
     "metadata": {
      "needs_background": "light"
     },
     "output_type": "display_data"
    }
   ],
   "source": [
    "# Create list of K dimensions to test for PCA\n",
    "p_comp = np.arange(1,10)\n",
    "\n",
    "\n",
    "# Create empty list to store fraction of total variance\n",
    "fraction_total_variance = []\n",
    "\n",
    "# Write for loop to try k values for PCA\n",
    "for i in p_comp:\n",
    "    pca=PCA(n_components = i)\n",
    "    pca.fit(X_SMOTE)\n",
    "    train_pca_m_smote = pca.transform(X_SMOTE)\n",
    "    \n",
    "    #Append fractions of explained total variance\n",
    "    fraction_total_variance.append(np.sum(pca.explained_variance_ratio_))\n",
    "    \n",
    "\n",
    "#Show what fraction of the total variance in the training data is explained by the first k principal components, for k in [1, 2, 3, 4, 5, 10, 20, 30, 40, 50].    \n",
    "variance_pca_df = pd.DataFrame({'Number of PCA Components':p_comp , 'Explained Fraction of Total Variance' :fraction_total_variance })\n",
    "\n",
    "pd.set_option(\"display.max_rows\", 500, \"display.max_columns\", 5, 'display.width', 1000)  \n",
    "print(variance_pca_df)\n",
    "\n",
    "\n",
    "#all possible values of k can go up to 9 i.e. one less than 10\n",
    "all_possible_k = np.arange(1,10)\n",
    "\n",
    "# Create empty list to store fraction of total variance\n",
    "all_possible_k_variance = []\n",
    "\n",
    "# Write for loop to try k values for PCA\n",
    "for i in all_possible_k:\n",
    "    pca=PCA(n_components = i)\n",
    "    pca.fit(X_SMOTE)\n",
    "    train_pca_m_smote = pca.transform(X_SMOTE)\n",
    "    \n",
    "    #Append fractions of explained total variance\n",
    "    all_possible_k_variance.append(np.sum(pca.explained_variance_ratio_))\n",
    "    \n",
    "\n",
    "plt.plot(all_possible_k, all_possible_k_variance)\n",
    "\n",
    "# show lineplot of fraction of total variance vs. number of principal components, for all possible numbers of principal components.\n",
    "# Add title and axis names\n",
    "plt.title('Number of PCA Components vs Explained Variance Fraction ')\n",
    "plt.xlabel('Number of PCA Components')\n",
    "plt.ylabel('Explained Variance')\n",
    "\n",
    "plt.show()  "
   ]
  },
  {
   "cell_type": "code",
   "execution_count": 23,
   "metadata": {},
   "outputs": [],
   "source": [
    "#Perform PCA with 2 components\n",
    "pca=PCA(n_components = 2)\n",
    "pca.fit(X_SMOTE)\n",
    "train_pca_m_smote = pca.transform(X_SMOTE)"
   ]
  },
  {
   "cell_type": "code",
   "execution_count": 25,
   "metadata": {},
   "outputs": [
    {
     "name": "stdout",
     "output_type": "stream",
     "text": [
      "{'C': 10000.0}\n"
     ]
    }
   ],
   "source": [
    "from sklearn.model_selection import GridSearchCV\n",
    "  \n",
    "# defining parameter range\n",
    "param_grid = {'C': np.logspace(-4, 4, 20)} \n",
    "  \n",
    "grid = GridSearchCV(SVC(), param_grid , cv=5)\n",
    "  \n",
    "# fitting the model for grid search\n",
    "grid.fit(train_pca_m_smote, y_SMOTE)\n",
    "\n",
    "print(grid.best_params_)"
   ]
  },
  {
   "cell_type": "code",
   "execution_count": null,
   "metadata": {},
   "outputs": [],
   "source": [
    "#Create SVM model with best hyperparameters and SMOTE\n",
    "\n",
    "svm = make_pipeline(SVC(kernel='linear', C = grid.best_params_['C'] ))\n",
    "svm.fit(train_pca_m_smote, y_SMOTE)\n",
    "scores = cross_val_score(estimator = svm, X=train_pca_m_smote, y=y_SMOTE, cv=5, n_jobs=1)\n",
    "\n",
    "#Apply 5 fold cross validation scoring to make sure results are reliable\n",
    "print('SVM with hyperparameter and SMOTE tuning')\n",
    "print('CV Scores: ', scores)\n",
    "print('CV Average and standard deviation: ', np.mean(scores), '+/-', np.std(scores))"
   ]
  },
  {
   "cell_type": "code",
   "execution_count": null,
   "metadata": {},
   "outputs": [],
   "source": [
    "#### MinMaxScaler Application\n",
    "\n",
    "#Create SVM model with best hyperparameters,SMOTE and MinMaxScaler\n",
    "\n",
    "svm = make_pipeline(MinMaxScaler() ,SVC(kernel='linear', C = grid.best_params_['C'] ))\n",
    "svm.fit(train_pca_m_smote, y_SMOTE)\n",
    "scores = cross_val_score(estimator = svm, X=train_pca_m_smote, y=y_SMOTE, cv=5, n_jobs=1)\n",
    "\n",
    "#Apply 5 fold cross validation scoring to make sure results are reliable\n",
    "print('SVM with hyperparameter tuning and MinMaxScaler')\n",
    "print('CV Scores: ', scores)\n",
    "print('CV Average and standard deviation: ', np.mean(scores), '+/-', np.std(scores))"
   ]
  },
  {
   "cell_type": "code",
   "execution_count": null,
   "metadata": {},
   "outputs": [],
   "source": [
    "#### StandardScaler Application\n",
    "\n",
    "#Create SVM model with best hyperparameters,  SMOTE and StandardScaler\n",
    "\n",
    "svm = make_pipeline(MinMaxScaler() ,SVC(kernel='linear', C = grid.best_params_['C']))\n",
    "svm.fit(train_pca_m_smote, y_SMOTE)\n",
    "scores = cross_val_score(estimator = svm, X=train_pca_m_smote, y=y_SMOTE, cv=5, n_jobs=1)\n",
    "\n",
    "#Apply 5 fold cross validation scoring to make sure results are reliable\n",
    "print('SVM with hyperparameter tuning and StandardScaler')\n",
    "print('CV Scores: ', scores)\n",
    "print('CV Average and standard deviation: ', np.mean(scores), '+/-', np.std(scores))"
   ]
  },
  {
   "cell_type": "markdown",
   "metadata": {},
   "source": [
    "#### Models on MIDI Data could not be run due to long runtime (4 hours) for linear, rbf and polynomial kernels. \n",
    "\n",
    "#### One clue we have here on why the SVM model struggles with classifying the MIDI data is that the best C value is extremely high at 10,000. In other words, very low regularization strength and extreme overfitting is required to fit the model well. \n"
   ]
  },
  {
   "cell_type": "markdown",
   "metadata": {},
   "source": [
    "# SVM Scenario 3 : Baseline SVM Results with Combined MIDI Data and Wav Spectral Features "
   ]
  },
  {
   "cell_type": "markdown",
   "metadata": {},
   "source": [
    "### 1. Baseline defaults with no hyperparameter tuning (Combined Data)"
   ]
  },
  {
   "cell_type": "code",
   "execution_count": 19,
   "metadata": {},
   "outputs": [
    {
     "name": "stdout",
     "output_type": "stream",
     "text": [
      "SVM Baseline with no hyperparameter tuning\n",
      "CV Scores:  [0.62264151 0.64150943 0.66037736 0.65384615 0.67307692]\n",
      "CV Average and standard deviation:  0.6502902757619738 +/- 0.017176625192111616\n"
     ]
    },
    {
     "name": "stderr",
     "output_type": "stream",
     "text": [
      "C:\\Users\\Zhuang\\anaconda3\\lib\\site-packages\\sklearn\\model_selection\\_split.py:668: UserWarning: The least populated class in y has only 2 members, which is less than n_splits=5.\n",
      "  % (min_groups, self.n_splits)), UserWarning)\n"
     ]
    }
   ],
   "source": [
    "#Create baseline SVM model with Spectral Wav and MIDI Data\n",
    "\n",
    "svm = make_pipeline(SVC())\n",
    "svm.fit(X_train_c, y_train_c.values.ravel())\n",
    "\n",
    "#Apply 5 fold cross validation scoring to make sure results are reliable\n",
    "\n",
    "scores = cross_val_score(estimator = svm, X=X_train_c, y=y_train_c.values.ravel(), cv=5,n_jobs=1)\n",
    "print('SVM Baseline with no hyperparameter tuning')\n",
    "print('CV Scores: ', scores)\n",
    "print('CV Average and standard deviation: ', np.mean(scores), '+/-', np.std(scores))"
   ]
  },
  {
   "cell_type": "markdown",
   "metadata": {},
   "source": [
    "### 2. Find the best parameters to use via hyperparameter tuning (Combined Data)"
   ]
  },
  {
   "cell_type": "code",
   "execution_count": null,
   "metadata": {},
   "outputs": [
    {
     "name": "stderr",
     "output_type": "stream",
     "text": [
      "C:\\Users\\Zhuang\\anaconda3\\lib\\site-packages\\sklearn\\model_selection\\_split.py:668: UserWarning: The least populated class in y has only 2 members, which is less than n_splits=5.\n",
      "  % (min_groups, self.n_splits)), UserWarning)\n"
     ]
    }
   ],
   "source": [
    "#Find best hyperparameters\n",
    "param_grid = {'C': np.logspace(-4, 4, 20), \n",
    "              'gamma': np.logspace(-3, 2, 6),                     \n",
    "              'kernel': ['linear','rbf','poly']} \n",
    "  \n",
    "grid = GridSearchCV(SVC(), param_grid, cv=5)\n",
    "  \n",
    "# fitting the model for grid search\n",
    "grid.fit(X_train_c, y_train_c.values.ravel())\n",
    "\n",
    "print(grid.best_params_)"
   ]
  },
  {
   "cell_type": "code",
   "execution_count": null,
   "metadata": {},
   "outputs": [],
   "source": [
    "#Create Model with best hyperparameters\n",
    "\n",
    "svm = make_pipeline(SVC(kernel=grid.best_params_['kernel'], C = grid.best_params_['C'] , gamma=grid.best_params_['gamma']))\n",
    "svm.fit(X_train_c, y_train_c.values.ravel())\n",
    "\n",
    "#Apply 5 fold cross validation scoring to make sure results are reliable\n",
    "\n",
    "scores = cross_val_score(estimator = svm, X=X_train_c, y=y_train_c.values.ravel(), cv=5, n_jobs=1)\n",
    "print('SVM with hyperparameter tuning')\n",
    "print('CV Scores: ', scores)\n",
    "print('CV Average and standard deviation: ', np.mean(scores), '+/-', np.std(scores))"
   ]
  },
  {
   "cell_type": "markdown",
   "metadata": {},
   "source": [
    "### 3. Try PCA to reduce features (Combined Data)"
   ]
  },
  {
   "cell_type": "code",
   "execution_count": null,
   "metadata": {},
   "outputs": [],
   "source": [
    "# Create list of K dimensions to test for PCA\n",
    "p_comp = np.arange(1,25)\n",
    "\n",
    "\n",
    "# Create empty list to store fraction of total variance\n",
    "fraction_total_variance = []\n",
    "\n",
    "# Write for loop to try k values for PCA\n",
    "for i in p_comp:\n",
    "    pca=PCA(n_components = i)\n",
    "    pca.fit(X_train_w)\n",
    "    train_pca_w = pca.transform(X_train_w)\n",
    "    \n",
    "    #Append fractions of explained total variance\n",
    "    fraction_total_variance.append(np.sum(pca.explained_variance_ratio_))\n",
    "    \n",
    "\n",
    "#Show what fraction of the total variance in the training data is explained by the first k principal components, for k in [1, 2, 3, 4, 5, 10, 20, 30, 40, 50].    \n",
    "variance_pca_df = pd.DataFrame({'Number of PCA Components':p_comp , 'Explained Fraction of Total Variance' :fraction_total_variance })\n",
    "\n",
    "pd.set_option(\"display.max_rows\", 500, \"display.max_columns\", 5, 'display.width', 1000)  \n",
    "print(variance_pca_df)\n",
    "\n",
    "\n",
    "#all possible values of k can go up to 175 i.e. one less than 176\n",
    "all_possible_k = np.arange(1,176)\n",
    "\n",
    "# Create empty list to store fraction of total variance\n",
    "all_possible_k_variance = []\n",
    "\n",
    "# Write for loop to try k values for PCA\n",
    "for i in all_possible_k:\n",
    "    pca=PCA(n_components = i)\n",
    "    pca.fit(X_train_w)\n",
    "    train_pca_w = pca.transform(X_train_w)\n",
    "    \n",
    "    #Append fractions of explained total variance\n",
    "    all_possible_k_variance.append(np.sum(pca.explained_variance_ratio_))\n",
    "    \n",
    "\n",
    "\n",
    "plt.plot(all_possible_k, all_possible_k_variance)\n",
    "\n",
    "# show lineplot of fraction of total variance vs. number of principal components, for all possible numbers of principal components.\n",
    "# Add title and axis names\n",
    "plt.title('Number of PCA Components vs Explained Variance Fraction ')\n",
    "plt.xlabel('Number of PCA Components')\n",
    "plt.ylabel('Explained Variance')\n",
    "\n",
    "plt.show()  "
   ]
  },
  {
   "cell_type": "code",
   "execution_count": null,
   "metadata": {},
   "outputs": [],
   "source": [
    "#Perform PCA with 15 components\n",
    "pca=PCA(n_components = 15)\n",
    "pca.fit(X_train_c)\n",
    "train_pca_c = pca.transform(X_train_c)"
   ]
  },
  {
   "cell_type": "code",
   "execution_count": null,
   "metadata": {},
   "outputs": [],
   "source": [
    "from sklearn.model_selection import GridSearchCV\n",
    "  \n",
    "# defining parameter range\n",
    "param_grid = {'C': np.logspace(-4, 4, 20), \n",
    "              'gamma': np.logspace(-3, 2, 6),\n",
    "              'kernel': ['linear','rbf','poly']} \n",
    "  \n",
    "grid = GridSearchCV(SVC(), param_grid , cv=5)\n",
    "  \n",
    "# fitting the model for grid search\n",
    "grid.fit(train_pca_c, y_train_c.values.ravel())\n",
    "\n",
    "print(grid.best_params_)"
   ]
  },
  {
   "cell_type": "code",
   "execution_count": null,
   "metadata": {},
   "outputs": [],
   "source": [
    "\n",
    "#Create Model with best hyperparameters and PCA\n",
    "svm = make_pipeline(SVC(kernel=grid.best_params_['kernel'], C = grid.best_params_['C'] , gamma=grid.best_params_['gamma']))\n",
    "svm.fit(train_pca_c, y_train_c.values.ravel())\n",
    "\n",
    "\n",
    "#Apply 5 fold cross validation scoring to make sure results are reliable\n",
    "scores = cross_val_score(estimator = svm, X=train_pca_c, y=y_train_c.values.ravel(), cv=5, n_jobs=1)\n",
    "print('SVM with hyperparameter tuning and PCA')\n",
    "print('CV Scores: ', scores)\n",
    "print('CV Average and standard deviation: ', np.mean(scores), '+/-', np.std(scores))"
   ]
  },
  {
   "cell_type": "code",
   "execution_count": null,
   "metadata": {},
   "outputs": [],
   "source": [
    "#### Note the models could not complete the run when midi features were added. "
   ]
  },
  {
   "cell_type": "markdown",
   "metadata": {},
   "source": [
    "# Conclusion :"
   ]
  },
  {
   "cell_type": "markdown",
   "metadata": {},
   "source": [
    "- The MIDI data and Data Set containing MIDI data could not complete running on the SVM model.\n",
    "\n",
    "- One clue we have here on why the SVM model struggles with classifying the MIDI data is that the best C value is extremely high at 10,000. In other words, very low regularization strength and extreme overfitting is required to fit the model well.\n",
    "\n",
    "- In conclusion, the best SVM model was run on spectral data and has a 5-fold cross-validation score of 99.47% with standard deviation of 0.00653 when a cross validation was done on training data,\n",
    "\n",
    "- It has PCA with 15 components, SMOTE application to balance the sample classes and also hyperparameter tuning where we found the best C, best gamma and also that linear kernel is the best kernel to use amongst the 3 types that are available.\n",
    "\n",
    "- When run on test data, the best SVM model had an F1 Score of 84.17%."
   ]
  },
  {
   "cell_type": "markdown",
   "metadata": {},
   "source": [
    "### Best SVM Model using Spectral Data"
   ]
  },
  {
   "cell_type": "code",
   "execution_count": 13,
   "metadata": {},
   "outputs": [
    {
     "name": "stdout",
     "output_type": "stream",
     "text": [
      "{'C': 0.012742749857031334, 'gamma': 0.001, 'kernel': 'linear'}\n",
      "Accuracy score:  0.7878787878787878\n",
      "F1 Score:  0.8417115822254162\n",
      "Classification report: \n",
      "               precision    recall  f1-score   support\n",
      "\n",
      "           0       0.00      0.00      0.00         1\n",
      "           1       0.86      0.97      0.91        31\n",
      "           2       0.33      1.00      0.50         1\n",
      "           4       0.83      0.91      0.87        11\n",
      "           5       0.00      0.00      0.00         1\n",
      "           6       0.00      0.00      0.00         1\n",
      "           7       1.00      1.00      1.00         2\n",
      "           8       0.00      0.00      0.00         1\n",
      "           9       0.00      0.00      0.00         1\n",
      "          11       0.00      0.00      0.00         1\n",
      "          12       1.00      1.00      1.00         2\n",
      "          13       0.00      0.00      0.00         1\n",
      "          14       0.67      1.00      0.80         2\n",
      "          15       0.00      0.00      0.00         1\n",
      "          16       0.67      1.00      0.80         2\n",
      "          17       0.00      0.00      0.00         1\n",
      "          18       0.00      0.00      0.00         1\n",
      "          19       0.75      0.75      0.75         4\n",
      "          20       0.00      0.00      0.00         1\n",
      "\n",
      "    accuracy                           0.79        66\n",
      "   macro avg       0.32      0.40      0.35        66\n",
      "weighted avg       0.69      0.79      0.73        66\n",
      "\n",
      "Confusion Matrix: \n",
      " [[ 0  0  0  1  0  0  0  0  0  0  0  0  0  0  0  0  0  0  0]\n",
      " [ 0 30  0  0  0  0  0  1  0  0  0  0  0  0  0  0  0  0  0]\n",
      " [ 0  0  1  0  0  0  0  0  0  0  0  0  0  0  0  0  0  0  0]\n",
      " [ 0  0  0 10  0  0  0  0  0  0  0  0  0  0  1  0  0  0  0]\n",
      " [ 0  0  1  0  0  0  0  0  0  0  0  0  0  0  0  0  0  0  0]\n",
      " [ 0  0  0  0  0  0  0  0  0  0  0  0  0  0  0  0  0  1  0]\n",
      " [ 0  0  0  0  0  0  2  0  0  0  0  0  0  0  0  0  0  0  0]\n",
      " [ 0  1  0  0  0  0  0  0  0  0  0  0  0  0  0  0  0  0  0]\n",
      " [ 0  1  0  0  0  0  0  0  0  0  0  0  0  0  0  0  0  0  0]\n",
      " [ 0  0  1  0  0  0  0  0  0  0  0  0  0  0  0  0  0  0  0]\n",
      " [ 0  0  0  0  0  0  0  0  0  0  2  0  0  0  0  0  0  0  0]\n",
      " [ 0  0  0  1  0  0  0  0  0  0  0  0  0  0  0  0  0  0  0]\n",
      " [ 0  0  0  0  0  0  0  0  0  0  0  0  2  0  0  0  0  0  0]\n",
      " [ 0  1  0  0  0  0  0  0  0  0  0  0  0  0  0  0  0  0  0]\n",
      " [ 0  0  0  0  0  0  0  0  0  0  0  0  0  0  2  0  0  0  0]\n",
      " [ 0  0  0  0  0  0  0  0  0  0  0  0  1  0  0  0  0  0  0]\n",
      " [ 0  0  0  0  0  0  0  1  0  0  0  0  0  0  0  0  0  0  0]\n",
      " [ 0  1  0  0  0  0  0  0  0  0  0  0  0  0  0  0  0  3  0]\n",
      " [ 0  1  0  0  0  0  0  0  0  0  0  0  0  0  0  0  0  0  0]]\n"
     ]
    },
    {
     "name": "stderr",
     "output_type": "stream",
     "text": [
      "C:\\Users\\Zhuang\\anaconda3\\lib\\site-packages\\sklearn\\metrics\\_classification.py:1248: UndefinedMetricWarning: Precision and F-score are ill-defined and being set to 0.0 in labels with no predicted samples. Use `zero_division` parameter to control this behavior.\n",
      "  _warn_prf(average, modifier, msg_start, len(result))\n",
      "C:\\Users\\Zhuang\\anaconda3\\lib\\site-packages\\sklearn\\metrics\\_classification.py:1248: UndefinedMetricWarning: Precision and F-score are ill-defined and being set to 0.0 in labels with no predicted samples. Use `zero_division` parameter to control this behavior.\n",
      "  _warn_prf(average, modifier, msg_start, len(result))\n",
      "C:\\Users\\Zhuang\\anaconda3\\lib\\site-packages\\sklearn\\metrics\\_classification.py:1248: UndefinedMetricWarning: Precision and F-score are ill-defined and being set to 0.0 in labels with no predicted samples. Use `zero_division` parameter to control this behavior.\n",
      "  _warn_prf(average, modifier, msg_start, len(result))\n"
     ]
    }
   ],
   "source": [
    "#Drop any ensemble types with counts below 6\n",
    "counts = y_train_w['ensemble'].value_counts()\n",
    "X_train_w_smote = X_train_w[~y_train_w['ensemble'].isin(counts[counts < 6].index)]\n",
    "y_train_w_smote = y_train_w[~y_train_w['ensemble'].isin(counts[counts < 6].index)]\n",
    "\n",
    "# fit and apply the transform\n",
    "X_SMOTE, y_SMOTE = SMOTE().fit_resample(X_train_w_smote, y_train_w_smote.values.ravel())\n",
    "\n",
    "#Perform PCA with 15 components\n",
    "pca=PCA(n_components = 15)\n",
    "pca.fit(X_SMOTE)\n",
    "train_pca_w_smote = pca.transform(X_SMOTE)\n",
    "\n",
    "from sklearn.model_selection import GridSearchCV\n",
    "  \n",
    "# defining parameter range\n",
    "param_grid = {'C': np.logspace(-4, 4, 20), \n",
    "              'gamma': np.logspace(-3, 2, 6),\n",
    "              'kernel': ['linear','rbf','poly']} \n",
    "  \n",
    "grid = GridSearchCV(SVC(), param_grid , cv=5)\n",
    "  \n",
    "# fitting the model for grid search\n",
    "grid.fit(train_pca_w_smote, y_SMOTE)\n",
    "\n",
    "print(grid.best_params_)\n",
    "\n",
    "#Create SVM model with best hyperparameters, PCA and SMOTE\n",
    "\n",
    "svm = make_pipeline(SVC(kernel=grid.best_params_['kernel'], C = grid.best_params_['C'] , gamma=grid.best_params_['gamma']))\n",
    "svm.fit(train_pca_w_smote, y_SMOTE)\n",
    "scores = cross_val_score(estimator = svm, X=train_pca_w_smote, y=y_SMOTE, cv=5, n_jobs=1)\n",
    "\n",
    "test_pca_w = pca.transform(X_test_w)\n",
    "predictions_pca_w = svm.predict(test_pca_w)\n",
    "print('Accuracy score: ', accuracy_score(predictions_pca_w, np.array(y_test_w)))\n",
    "print('F1 Score: ', f1_score(predictions_pca_w, np.array(y_test_w), average='weighted'))\n",
    "print('Classification report: \\n', classification_report(np.array(y_test_w), predictions_pca_w))\n",
    "print('Confusion Matrix: \\n', confusion_matrix(np.array(y_test_w), predictions_pca_w))"
   ]
  }
 ],
 "metadata": {
  "kernelspec": {
   "display_name": "Python 3",
   "language": "python",
   "name": "python3"
  },
  "language_info": {
   "codemirror_mode": {
    "name": "ipython",
    "version": 3
   },
   "file_extension": ".py",
   "mimetype": "text/x-python",
   "name": "python",
   "nbconvert_exporter": "python",
   "pygments_lexer": "ipython3",
   "version": "3.7.6"
  }
 },
 "nbformat": 4,
 "nbformat_minor": 4
}
